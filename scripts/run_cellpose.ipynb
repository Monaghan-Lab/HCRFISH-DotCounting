{
 "cells": [
  {
   "cell_type": "markdown",
   "id": "d4fb097a",
   "metadata": {},
   "source": [
    "# Cellpose"
   ]
  },
  {
   "cell_type": "markdown",
   "id": "3f5c4293",
   "metadata": {},
   "source": [
    "This notebook runs Cellpose segmentation on a folder of **.tif** files and outputs text outlines for ImageJ/FIJI to the folder containing the `.tif` images. Convert `.czi` images to `.tif` in ImageJ/FIJI first.\n",
    "\n",
    "### Defining your image folder:\n",
    "\n",
    "1. Go to the file browser system on your computer.\n",
    "2. Navigate to the folder holding your images.\n",
    "3. The image folder path is shown in the top bar. Rewrite this as anything following the \"Data (D:)\" with backslashes instead of arrows. Do not delete the leading \"r'D:\" Example:\n",
    "    ```python\n",
    "    r'D:\\Monaghan-Lab\\Example\\Tif_Folder'\n",
    "    ```\n",
    "4. If you are on a Mac, your path would instead look like this:\n",
    "    ```python\n",
    "    r'/Monaghan-Lab/Example/Tif_Folder'\n",
    "    ```\n",
    "\n",
    "### Running this notebook:\n",
    "\n",
    "1. **Edit path to images!!**\n",
    "    - **Important note:** Ensure there are no quotation marks, spaces, or special characters in your folder names. Sometimes these are fine, but to prevent headaches it's best to just avoid using them :-)\n",
    "    - Another note: you must define the **folder** containing the images; do not define the path to an individual file. In other words, no:\n",
    "    ```python\n",
    "    r'D:\\Monaghan Lab\\Example\\Tif_Folder\\Image.tif'\n",
    "    ```\n",
    "\n",
    "2. Edit the parameters in the main Cellpose block as needed. See the [documentation](https://cellpose.readthedocs.io/en/latest/) for help. I recommend running a few test images to make sure the parameters are working well for them. \n",
    "\n",
    "If you run into errors, first check that your image folder is defined correctly.\n",
    "   - Note: ``` [WARNING] WARNING: not interp ``` in the output is not an error. The segmentation will continue.\n",
    "   \n",
    "The ``` _cp_outlines.txt ``` files generated below can be used in ImageJ/FIJI with the [ROI converter macro](https://github.com/MouseLand/cellpose/blob/master/imagej_roi_converter.py)."
   ]
  },
  {
   "cell_type": "code",
   "execution_count": null,
   "id": "b9f619f4",
   "metadata": {},
   "outputs": [],
   "source": [
    "## DO NOT EDIT ##\n",
    "# Importing necessary packages\n",
    "# You may have to install these with conda if you don't already have them in your environment\n",
    "from pathlib import Path\n",
    "import time, os, sys\n",
    "from cellpose import utils, models, io\n",
    "\n",
    "print('Done')"
   ]
  },
  {
   "cell_type": "markdown",
   "id": "892cef38",
   "metadata": {},
   "source": [
    "### Edit image folder here"
   ]
  },
  {
   "cell_type": "code",
   "execution_count": null,
   "id": "a509ed00",
   "metadata": {},
   "outputs": [],
   "source": [
    "# File path to image folder\n",
    "# Note: Do not delete the leading r\n",
    "\n",
    "image_folder=Path(r'/path/to/images').glob('*.tif')\n",
    "\n",
    "print('Done')"
   ]
  },
  {
   "cell_type": "markdown",
   "id": "4aa696f4",
   "metadata": {},
   "source": [
    "## Run Cellpose"
   ]
  },
  {
   "cell_type": "markdown",
   "id": "8ecec07d",
   "metadata": {},
   "source": [
    "Change the parameters in the loop where indicated and as needed. The main block will run for a while and continually update the output as it progresses; depending on how large they are, each image should only take a few minutes. Leave this browser window open and check back regularly. See [the cellpose documentation](https://cellpose.readthedocs.io/en/latest/) for more information.\n",
    "\n",
    "#### Information for what can be edited:\n",
    "\n",
    "##### Defining cellpose model #####\n",
    "\n",
    "`model_type = 'cyto'` or `model_type = 'cyto2'` for cells; `model_type = 'nuclei'` for nuclei.\n",
    "\n",
    "`gpu = True` to use GPU, `gpu = False` to not use GPU. GPU use is highly suggested by cellpose (and me) to speed up segmentation. If it's turned off it will slow down considerably, and the segmentation results may not be ideal.\n",
    "\n",
    "##### Segmentation loop #####\n",
    "\n",
    "`diameter = None` will estimate cell sizes on an image-by-image basis. Change to an integer (in pixels) to use the same diameter for each image. If diameter is too large, cells may be over-merged. If diameter is too small, cells may be incorrectly split up. This may take some trial and error to find a good value.\n",
    "\n",
    "`channels=[a,b]` are the channels used. Edit this in `io.masks_flows_to_seg` too.\n",
    "- The first element `a` is the channel to segment. The second element `b` is an optional nuclear channel. \n",
    "- `a`: `0` = grayscale, `1` = red, `2` = green, `3` = blue.\n",
    "- `b`: `0` = none, otherwise the same color options as `a`.\n",
    "\n",
    "`min_size` (not shown below) sets the minimum number of pixels per mask. Default is `15`, turn off using `min_size = -1`.\n",
    "\n",
    "`flow_threshold` sets a threshold of error allowed between flows and masks. The default value is `0.4`. Increase if there are too few masks, but decrease if your masks are poorly shaped.\n",
    "\n",
    "`mask_threshold` (not shown below) will discard masks below a certain probability. Default is `mask_threshold = 0.0` to keep all masks, while `mask_threshold = 1.0` will discard all. Too high, and there may not be as many areas covered as expected. Too low, and there will be too many masks from \"dim\" areas.\n",
    "\n",
    "### In 3D\n",
    "\n",
    "You have two main options for dealing with 3D images in cellpose: one which segments your 2D slices and stitches them together, and the other which runs segmentation volumetrically.\n",
    "\n",
    "##### `do_3D=False`\n",
    "\n",
    "Use this if volumetric segmentation is not working well.\n",
    "\n",
    "`stitch_threshold`: 2D XY masks will stich across Z axis if the mask between the current and next slices are at or above the threshold value. This might take some trial and error to get quality stitching.\n",
    "\n",
    "##### `do_3D=True`\n",
    "\n",
    "`flow_threshold` is ignored in 3D. Use `min_size` instead to filter false positives.\n",
    "\n",
    "`diameter = None` is ignored in 3D.\n",
    "\n",
    "`anisotropy` accounts for sampling differences between XY and Z axes. For example, set to `2.0` if Z is sampled half as densely as XY.\n",
    "\n",
    "`channel_axis` sets the image axis corresponding to the channels. If `channel_axis = None`, cellpose will automatically try to determine it.\n",
    "\n",
    "`z_axis` sets the image axis corresponding to Z. If `z_axis = None`, cellpose will automatically try to determine which axis is Z."
   ]
  },
  {
   "cell_type": "code",
   "execution_count": null,
   "id": "17ce7d4b",
   "metadata": {},
   "outputs": [],
   "source": [
    "## Edit as necessary ##\n",
    "## RUN CELLPOSE ##\n",
    "\n",
    "# Defining cellpose model\n",
    "model = models.Cellpose(gpu = True, model_type = 'cyto2')\n",
    "\n",
    "# Segmentation Loop\n",
    "for tif in image_folder:\n",
    "    img = io.imread(tif)\n",
    "    basename = os.path.splitext(tif.name)[0]\n",
    "    \n",
    "    # To troubleshoot - un-comment the print statement below to check that your loop\n",
    "    # is going through the correct folder and finding the right images\n",
    "    # print(tif)\n",
    "    \n",
    "    ## Edit parameters here ##\n",
    "    \n",
    "    masks, flows, styles, diams = model.eval(img,\n",
    "                                             diameter = None,\n",
    "                                             channels = [0,0],\n",
    "                                             flow_threshold = 0.4,\n",
    "                                             do_3D = False)\n",
    "    \n",
    "    ## Done editing ##\n",
    "    \n",
    "    # Save outlines as text for use in ROI converter macro\n",
    "    outlines = utils.outlines_list(masks)\n",
    "    io.outlines_to_text(os.path.splitext(tif)[0]+str(basename), outlines)\n",
    "    \n",
    "print('Segmentation Complete')"
   ]
  }
 ],
 "metadata": {
  "kernelspec": {
   "display_name": "Python 3 (ipykernel)",
   "language": "python",
   "name": "python3"
  },
  "language_info": {
   "codemirror_mode": {
    "name": "ipython",
    "version": 3
   },
   "file_extension": ".py",
   "mimetype": "text/x-python",
   "name": "python",
   "nbconvert_exporter": "python",
   "pygments_lexer": "ipython3",
   "version": "3.9.9"
  }
 },
 "nbformat": 4,
 "nbformat_minor": 5
}
